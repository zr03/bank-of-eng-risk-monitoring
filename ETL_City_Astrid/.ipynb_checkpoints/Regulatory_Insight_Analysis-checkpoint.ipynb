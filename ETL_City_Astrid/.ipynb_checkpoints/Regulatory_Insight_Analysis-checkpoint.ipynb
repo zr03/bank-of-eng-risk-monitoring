{
 "cells": [
  {
   "cell_type": "markdown",
   "id": "c81985f1",
   "metadata": {},
   "source": [
    "# Bank Earnings: Regulatory Topic & Sentiment Analysis"
   ]
  },
  {
   "cell_type": "code",
   "execution_count": null,
   "id": "40df5f98",
   "metadata": {},
   "outputs": [],
   "source": [
    "\n",
    "import pandas as pd\n",
    "import matplotlib.pyplot as plt\n",
    "import seaborn as sns\n",
    "\n",
    "df = pd.read_csv(\"transcript_sentences.csv\")\n",
    "df['quarter_year'] = df['quarter'] + \" \" + df['year'].astype(str)\n"
   ]
  },
  {
   "cell_type": "markdown",
   "id": "74a234c4",
   "metadata": {},
   "source": [
    "## 1. What are the most common topics (financial and regulatory)?"
   ]
  },
  {
   "cell_type": "code",
   "execution_count": null,
   "id": "5f707a84",
   "metadata": {},
   "outputs": [],
   "source": [
    "\n",
    "reg_topics = [col for col in df.columns if col.startswith(\"Mentions \")]\n",
    "reg_summary = df[reg_topics].apply(lambda col: (col == \"Yes\").sum()).sort_values(ascending=False)\n",
    "reg_summary.plot(kind='bar', figsize=(12,4), title='Mentions of Prudential Regulatory Themes')\n",
    "plt.ylabel(\"Number of Sentences\")\n",
    "plt.xticks(rotation=45)\n",
    "plt.tight_layout()\n",
    "plt.show()\n"
   ]
  },
  {
   "cell_type": "markdown",
   "id": "ce196e08",
   "metadata": {},
   "source": [
    "## 2. What do executives say when they mention Prudential Regulation Themes?"
   ]
  },
  {
   "cell_type": "code",
   "execution_count": null,
   "id": "3e1411d7",
   "metadata": {},
   "outputs": [],
   "source": [
    "\n",
    "mentions_mask = df[[col for col in df.columns if col.startswith(\"Mentions \")]].eq(\"Yes\").any(axis=1)\n",
    "reg_df = df[mentions_mask].copy()\n",
    "print(f\"Total rows where regulation themes are mentioned: {len(reg_df)}\")\n",
    "reg_df[['quarter', 'year', 'speaker', 'sentence'] + [c for c in df.columns if c.startswith(\"Mentions \")][:3]].head(10)\n"
   ]
  },
  {
   "cell_type": "markdown",
   "id": "221501ae",
   "metadata": {},
   "source": [
    "## 3. What is the sentiment trend around regulatory themes by quarter?"
   ]
  },
  {
   "cell_type": "code",
   "execution_count": null,
   "id": "5e1a0d77",
   "metadata": {},
   "outputs": [],
   "source": [
    "\n",
    "import nltk\n",
    "from nltk.sentiment import SentimentIntensityAnalyzer\n",
    "nltk.download('vader_lexicon')\n",
    "sia = SentimentIntensityAnalyzer()\n",
    "\n",
    "reg_df['sentiment_score'] = reg_df['sentence'].apply(lambda x: sia.polarity_scores(str(x))['compound'])\n",
    "reg_df['sentiment_label'] = reg_df['sentiment_score'].apply(lambda x: 'positive' if x > 0.2 else 'negative' if x < -0.2 else 'neutral')\n",
    "\n",
    "sentiment_summary = reg_df.groupby(['quarter_year', 'sentiment_label']).size().unstack(fill_value=0)\n",
    "sentiment_summary.plot(kind='bar', stacked=True, figsize=(12, 6), colormap='coolwarm', title='Sentiment of Regulatory Sentences per Quarter')\n",
    "plt.ylabel(\"Sentence Count\")\n",
    "plt.xticks(rotation=45)\n",
    "plt.tight_layout()\n",
    "plt.show()\n"
   ]
  },
  {
   "cell_type": "markdown",
   "id": "923101c2",
   "metadata": {},
   "source": [
    "## 4. Are executives complaining, complying or preparing? (Manual hints based on keywords)"
   ]
  },
  {
   "cell_type": "code",
   "execution_count": null,
   "id": "c6f1f05e",
   "metadata": {},
   "outputs": [],
   "source": [
    "\n",
    "def classify_tone(text):\n",
    "    text = text.lower()\n",
    "    if any(word in text for word in ['concern', 'challenge', 'problem', 'headwind']):\n",
    "        return 'Complaining'\n",
    "    elif any(word in text for word in ['comply', 'compliance', 'met requirement', 'within range']):\n",
    "        return 'Complying'\n",
    "    elif any(word in text for word in ['prepare', 'planning', 'readiness', 'scenario']):\n",
    "        return 'Preparing'\n",
    "    return 'Unclear'\n",
    "\n",
    "reg_df['reg_tone'] = reg_df['sentence'].apply(classify_tone)\n",
    "tone_summary = reg_df.groupby(['quarter_year', 'reg_tone']).size().unstack(fill_value=0)\n",
    "tone_summary.plot(kind='bar', stacked=True, figsize=(12,6), title='Regulatory Tone Classification Over Time')\n",
    "plt.ylabel(\"Sentence Count\")\n",
    "plt.xticks(rotation=45)\n",
    "plt.tight_layout()\n",
    "plt.show()\n"
   ]
  }
 ],
 "metadata": {},
 "nbformat": 4,
 "nbformat_minor": 5
}
